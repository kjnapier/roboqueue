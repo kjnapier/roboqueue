{
 "cells": [
  {
   "cell_type": "code",
   "execution_count": 1,
   "metadata": {},
   "outputs": [],
   "source": [
    "from roboqueue import StationaryTarget, TargetList, Telescope, Conditions\n",
    "\n",
    "import numpy as np\n",
    "from spacerocks.utils import time_handler"
   ]
  },
  {
   "cell_type": "code",
   "execution_count": 2,
   "metadata": {},
   "outputs": [],
   "source": [
    "telescope = Telescope(obscode='W84', filter='r')\n",
    "conditions = Conditions(seeing=1, moon=7)"
   ]
  },
  {
   "cell_type": "code",
   "execution_count": 4,
   "metadata": {},
   "outputs": [],
   "source": [
    "star_positions = [( 24.42813204, -57.23666007), \n",
    "                  ( 68.98000195,  16.50976164),\n",
    "                  ( 78.63446353,  -8.20163919), \n",
    "                  ( 79.17206517,  45.99902927),\n",
    "                  ( 88.79287161,   7.40703634)]\n",
    "\n",
    "# convert to radians    \n",
    "star_positions = [(np.radians(ra), np.radians(dec)) for ra, dec in star_positions]"
   ]
  },
  {
   "cell_type": "code",
   "execution_count": null,
   "metadata": {},
   "outputs": [],
   "source": []
  }
 ],
 "metadata": {
  "kernelspec": {
   "display_name": "base",
   "language": "python",
   "name": "python3"
  },
  "language_info": {
   "codemirror_mode": {
    "name": "ipython",
    "version": 3
   },
   "file_extension": ".py",
   "mimetype": "text/x-python",
   "name": "python",
   "nbconvert_exporter": "python",
   "pygments_lexer": "ipython3",
   "version": "3.9.12"
  }
 },
 "nbformat": 4,
 "nbformat_minor": 2
}
